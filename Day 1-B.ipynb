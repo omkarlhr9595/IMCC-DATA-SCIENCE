{
 "cells": [
  {
   "cell_type": "code",
   "execution_count": 41,
   "id": "32866ae8",
   "metadata": {},
   "outputs": [],
   "source": [
    "import numpy as np"
   ]
  },
  {
   "cell_type": "code",
   "execution_count": 42,
   "id": "7977f97d",
   "metadata": {},
   "outputs": [],
   "source": [
    "num = np.array([12,13,14,15,12,16])"
   ]
  },
  {
   "cell_type": "code",
   "execution_count": 43,
   "id": "c4255ee3",
   "metadata": {},
   "outputs": [
    {
     "name": "stdout",
     "output_type": "stream",
     "text": [
      "[12 13 14 15 12 16]\n"
     ]
    }
   ],
   "source": [
    "print(num)"
   ]
  },
  {
   "cell_type": "code",
   "execution_count": 44,
   "id": "417e5273",
   "metadata": {},
   "outputs": [
    {
     "data": {
      "text/plain": [
       "dtype('int32')"
      ]
     },
     "execution_count": 44,
     "metadata": {},
     "output_type": "execute_result"
    }
   ],
   "source": [
    "num.dtype"
   ]
  },
  {
   "cell_type": "code",
   "execution_count": 45,
   "id": "2272200b",
   "metadata": {},
   "outputs": [
    {
     "data": {
      "text/plain": [
       "(6,)"
      ]
     },
     "execution_count": 45,
     "metadata": {},
     "output_type": "execute_result"
    }
   ],
   "source": [
    "num.shape"
   ]
  },
  {
   "cell_type": "code",
   "execution_count": 46,
   "id": "29fc8cc3",
   "metadata": {},
   "outputs": [
    {
     "data": {
      "text/plain": [
       "13"
      ]
     },
     "execution_count": 46,
     "metadata": {},
     "output_type": "execute_result"
    }
   ],
   "source": [
    "num[1]"
   ]
  },
  {
   "cell_type": "code",
   "execution_count": 47,
   "id": "695840e0",
   "metadata": {},
   "outputs": [],
   "source": [
    "num = np.array([12,13,14,15,12.3,16])"
   ]
  },
  {
   "cell_type": "code",
   "execution_count": 48,
   "id": "7230d827",
   "metadata": {},
   "outputs": [
    {
     "name": "stdout",
     "output_type": "stream",
     "text": [
      "[12.  13.  14.  15.  12.3 16. ]\n"
     ]
    }
   ],
   "source": [
    "print(num)"
   ]
  },
  {
   "cell_type": "code",
   "execution_count": 49,
   "id": "d65a137b",
   "metadata": {},
   "outputs": [
    {
     "data": {
      "text/plain": [
       "13.0"
      ]
     },
     "execution_count": 49,
     "metadata": {},
     "output_type": "execute_result"
    }
   ],
   "source": [
    "num[1]"
   ]
  },
  {
   "cell_type": "code",
   "execution_count": 50,
   "id": "d4a4e8e3",
   "metadata": {},
   "outputs": [],
   "source": [
    "num = np.array([12,13,14,15,\"Robin\",16])"
   ]
  },
  {
   "cell_type": "code",
   "execution_count": 51,
   "id": "c3ab2be9",
   "metadata": {},
   "outputs": [
    {
     "name": "stdout",
     "output_type": "stream",
     "text": [
      "['12' '13' '14' '15' 'Robin' '16']\n"
     ]
    }
   ],
   "source": [
    "print(num)"
   ]
  },
  {
   "cell_type": "code",
   "execution_count": 52,
   "id": "0a10f88a",
   "metadata": {},
   "outputs": [
    {
     "data": {
      "text/plain": [
       "'13'"
      ]
     },
     "execution_count": 52,
     "metadata": {},
     "output_type": "execute_result"
    }
   ],
   "source": [
    "num[1]"
   ]
  },
  {
   "cell_type": "code",
   "execution_count": 53,
   "id": "bf21c029",
   "metadata": {},
   "outputs": [
    {
     "data": {
      "text/plain": [
       "dtype('<U11')"
      ]
     },
     "execution_count": 53,
     "metadata": {},
     "output_type": "execute_result"
    }
   ],
   "source": [
    "num.dtype"
   ]
  },
  {
   "cell_type": "code",
   "execution_count": 54,
   "id": "cd2cb446",
   "metadata": {},
   "outputs": [
    {
     "data": {
      "text/plain": [
       "65"
      ]
     },
     "execution_count": 54,
     "metadata": {},
     "output_type": "execute_result"
    }
   ],
   "source": [
    "ord(\"A\")"
   ]
  },
  {
   "cell_type": "code",
   "execution_count": 56,
   "id": "29cb49be",
   "metadata": {},
   "outputs": [
    {
     "data": {
      "text/plain": [
       "'E'"
      ]
     },
     "execution_count": 56,
     "metadata": {},
     "output_type": "execute_result"
    }
   ],
   "source": [
    "chr(69)"
   ]
  },
  {
   "cell_type": "code",
   "execution_count": 62,
   "id": "83f90469",
   "metadata": {},
   "outputs": [],
   "source": [
    "line = \"हॅलो रॉबिन कशी आहेस तू? \"\n"
   ]
  },
  {
   "cell_type": "code",
   "execution_count": 63,
   "id": "0ffdec64",
   "metadata": {},
   "outputs": [
    {
     "name": "stdout",
     "output_type": "stream",
     "text": [
      "हॅलो रॉबिन कशी आहेस तू? \n"
     ]
    }
   ],
   "source": [
    "print(line)"
   ]
  },
  {
   "cell_type": "code",
   "execution_count": 64,
   "id": "c4512bfd",
   "metadata": {},
   "outputs": [
    {
     "data": {
      "text/plain": [
       "'हॅलो रॉबिन कशी आहेस तू? हॅलो रॉबिन कशी आहेस तू? हॅलो रॉबिन कशी आहेस तू? हॅलो रॉबिन कशी आहेस तू? हॅलो रॉबिन कशी आहेस तू? हॅलो रॉबिन कशी आहेस तू? हॅलो रॉबिन कशी आहेस तू? हॅलो रॉबिन कशी आहेस तू? हॅलो रॉबिन कशी आहेस तू? हॅलो रॉबिन कशी आहेस तू? '"
      ]
     },
     "execution_count": 64,
     "metadata": {},
     "output_type": "execute_result"
    }
   ],
   "source": [
    "line * 10"
   ]
  },
  {
   "cell_type": "code",
   "execution_count": 65,
   "id": "730fa8dd",
   "metadata": {},
   "outputs": [
    {
     "data": {
      "text/plain": [
       "True"
      ]
     },
     "execution_count": 65,
     "metadata": {},
     "output_type": "execute_result"
    }
   ],
   "source": [
    "line.startswith(\"ह\")"
   ]
  },
  {
   "cell_type": "code",
   "execution_count": null,
   "id": "410a1a12",
   "metadata": {},
   "outputs": [],
   "source": []
  }
 ],
 "metadata": {
  "kernelspec": {
   "display_name": "Python 3 (ipykernel)",
   "language": "python",
   "name": "python3"
  },
  "language_info": {
   "codemirror_mode": {
    "name": "ipython",
    "version": 3
   },
   "file_extension": ".py",
   "mimetype": "text/x-python",
   "name": "python",
   "nbconvert_exporter": "python",
   "pygments_lexer": "ipython3",
   "version": "3.9.5"
  }
 },
 "nbformat": 4,
 "nbformat_minor": 5
}
